{
  "cells": [
    {
      "cell_type": "code",
      "execution_count": 3,
      "metadata": {
        "id": "FKUIPcEY62U-"
      },
      "outputs": [],
      "source": [
        "import pandas as pd"
      ]
    },
    {
      "cell_type": "code",
      "execution_count": 4,
      "metadata": {
        "id": "Vg1wMBfMhbXd"
      },
      "outputs": [],
      "source": [
        "statss = pd.read_csv(\"22MVP.csv\")"
      ]
    },
    {
      "cell_type": "code",
      "execution_count": 5,
      "metadata": {
        "id": "3sulD_H77Nih"
      },
      "outputs": [],
      "source": [
        "stats = pd.read_csv(\"player_mvp_stats.csv\") #reads data in pandas"
      ]
    },
    {
      "cell_type": "code",
      "execution_count": 6,
      "metadata": {
        "colab": {
          "base_uri": "https://localhost:8080/",
          "height": 581
        },
        "id": "0tj_RLPbhp-m",
        "outputId": "521a09ad-2350-44f3-ee31-0be8c3e93993"
      },
      "outputs": [
        {
          "output_type": "execute_result",
          "data": {
            "text/plain": [
              "                  Player  games_played                   team        PTS  \\\n",
              "0  Giannis Antetokounmpo            47        milwaukee bucks  28.957447   \n",
              "1           Devin Booker            49           phoenix suns  25.510204   \n",
              "2           Jimmy Butler            38             miami heat  21.736842   \n",
              "3          Stephen Curry            53  golden state warriors  25.811321   \n",
              "4          DeMar DeRozan            54          chicago bulls  27.944444   \n",
              "5            Joel Embiid            44     philadelphia 76ers  29.545455   \n",
              "6           Nikola Jokic            51         denver nuggets  25.823529   \n",
              "7              Ja Morant            45      memphis grizzlies  26.422222   \n",
              "8             Chris Paul            56           phoenix suns  14.964286   \n",
              "\n",
              "         AST       STL       BLK       FG%       3P%        TRB  ...  \\\n",
              "0   6.021277  0.957447  1.425532  0.540603  0.298343  11.191489  ...   \n",
              "1   4.387755  0.959184  0.326531  0.446516  0.369318   5.285714  ...   \n",
              "2   6.026316  1.815789  0.447368  0.491007  0.205882   6.236842  ...   \n",
              "3   6.339623  1.396226  0.396226  0.425409  0.381098   5.339623  ...   \n",
              "4   5.129630  0.851852  0.314815  0.515464  0.336735   5.203704  ...   \n",
              "5   4.454545  1.045455  1.477273  0.492415  0.361963  11.159091  ...   \n",
              "6   7.882353  1.352941  0.745098  0.570295  0.366516  13.745098  ...   \n",
              "7   6.777778  1.244444  0.377778  0.493407  0.334975   5.866667  ...   \n",
              "8  10.696429  1.875000  0.321429  0.486111  0.335227   4.535714  ...   \n",
              "\n",
              "  usage_percentage  offensive_win_shares  defensive_win_shares  win_shares  \\\n",
              "0             35.1                   6.4                   2.7         9.0   \n",
              "1             32.2                   2.5                   2.3         4.8   \n",
              "2             26.5                   5.1                   2.0         7.1   \n",
              "3             31.3                   4.1                   3.0         7.1   \n",
              "4             31.7                   6.3                   1.3         7.6   \n",
              "5             37.3                   5.3                   2.7         8.0   \n",
              "6             31.4                   7.4                   3.1        10.4   \n",
              "7             33.2                   3.7                   1.6         5.3   \n",
              "8             19.9                   5.3                   3.2         8.5   \n",
              "\n",
              "   win_shares_per_48_minutes  offensive_box_plus_minus  \\\n",
              "0                      0.284                       7.5   \n",
              "1                      0.139                       3.1   \n",
              "2                      0.264                       5.7   \n",
              "3                      0.185                       5.7   \n",
              "4                      0.190                       4.3   \n",
              "5                      0.264                       7.6   \n",
              "6                      0.297                       9.3   \n",
              "7                      0.170                       5.9   \n",
              "8                      0.219                       3.1   \n",
              "\n",
              "   defensive_box_plus_minus  box_plus_minus  value_over_replacement_player  \\\n",
              "0                       3.5            11.0                       8.723404   \n",
              "1                      -0.3             2.8                       3.346939   \n",
              "2                       2.4             8.1                       6.905263   \n",
              "3                       0.5             6.2                       5.879245   \n",
              "4                      -1.0             3.3                       3.948148   \n",
              "5                       2.3             9.9                       8.200000   \n",
              "6                       4.6            14.0                      10.933333   \n",
              "7                      -0.2             5.7                       5.284444   \n",
              "8                       2.2             5.3                       4.978571   \n",
              "\n",
              "   Similar  \n",
              "0        1  \n",
              "1        1  \n",
              "2        1  \n",
              "3        1  \n",
              "4        1  \n",
              "5        1  \n",
              "6        1  \n",
              "7        1  \n",
              "8        1  \n",
              "\n",
              "[9 rows x 35 columns]"
            ],
            "text/html": [
              "\n",
              "  <div id=\"df-d14b9ff7-727c-4cf2-9695-0b8cdb99d47c\">\n",
              "    <div class=\"colab-df-container\">\n",
              "      <div>\n",
              "<style scoped>\n",
              "    .dataframe tbody tr th:only-of-type {\n",
              "        vertical-align: middle;\n",
              "    }\n",
              "\n",
              "    .dataframe tbody tr th {\n",
              "        vertical-align: top;\n",
              "    }\n",
              "\n",
              "    .dataframe thead th {\n",
              "        text-align: right;\n",
              "    }\n",
              "</style>\n",
              "<table border=\"1\" class=\"dataframe\">\n",
              "  <thead>\n",
              "    <tr style=\"text-align: right;\">\n",
              "      <th></th>\n",
              "      <th>Player</th>\n",
              "      <th>games_played</th>\n",
              "      <th>team</th>\n",
              "      <th>PTS</th>\n",
              "      <th>AST</th>\n",
              "      <th>STL</th>\n",
              "      <th>BLK</th>\n",
              "      <th>FG%</th>\n",
              "      <th>3P%</th>\n",
              "      <th>TRB</th>\n",
              "      <th>...</th>\n",
              "      <th>usage_percentage</th>\n",
              "      <th>offensive_win_shares</th>\n",
              "      <th>defensive_win_shares</th>\n",
              "      <th>win_shares</th>\n",
              "      <th>win_shares_per_48_minutes</th>\n",
              "      <th>offensive_box_plus_minus</th>\n",
              "      <th>defensive_box_plus_minus</th>\n",
              "      <th>box_plus_minus</th>\n",
              "      <th>value_over_replacement_player</th>\n",
              "      <th>Similar</th>\n",
              "    </tr>\n",
              "  </thead>\n",
              "  <tbody>\n",
              "    <tr>\n",
              "      <th>0</th>\n",
              "      <td>Giannis Antetokounmpo</td>\n",
              "      <td>47</td>\n",
              "      <td>milwaukee bucks</td>\n",
              "      <td>28.957447</td>\n",
              "      <td>6.021277</td>\n",
              "      <td>0.957447</td>\n",
              "      <td>1.425532</td>\n",
              "      <td>0.540603</td>\n",
              "      <td>0.298343</td>\n",
              "      <td>11.191489</td>\n",
              "      <td>...</td>\n",
              "      <td>35.1</td>\n",
              "      <td>6.4</td>\n",
              "      <td>2.7</td>\n",
              "      <td>9.0</td>\n",
              "      <td>0.284</td>\n",
              "      <td>7.5</td>\n",
              "      <td>3.5</td>\n",
              "      <td>11.0</td>\n",
              "      <td>8.723404</td>\n",
              "      <td>1</td>\n",
              "    </tr>\n",
              "    <tr>\n",
              "      <th>1</th>\n",
              "      <td>Devin Booker</td>\n",
              "      <td>49</td>\n",
              "      <td>phoenix suns</td>\n",
              "      <td>25.510204</td>\n",
              "      <td>4.387755</td>\n",
              "      <td>0.959184</td>\n",
              "      <td>0.326531</td>\n",
              "      <td>0.446516</td>\n",
              "      <td>0.369318</td>\n",
              "      <td>5.285714</td>\n",
              "      <td>...</td>\n",
              "      <td>32.2</td>\n",
              "      <td>2.5</td>\n",
              "      <td>2.3</td>\n",
              "      <td>4.8</td>\n",
              "      <td>0.139</td>\n",
              "      <td>3.1</td>\n",
              "      <td>-0.3</td>\n",
              "      <td>2.8</td>\n",
              "      <td>3.346939</td>\n",
              "      <td>1</td>\n",
              "    </tr>\n",
              "    <tr>\n",
              "      <th>2</th>\n",
              "      <td>Jimmy Butler</td>\n",
              "      <td>38</td>\n",
              "      <td>miami heat</td>\n",
              "      <td>21.736842</td>\n",
              "      <td>6.026316</td>\n",
              "      <td>1.815789</td>\n",
              "      <td>0.447368</td>\n",
              "      <td>0.491007</td>\n",
              "      <td>0.205882</td>\n",
              "      <td>6.236842</td>\n",
              "      <td>...</td>\n",
              "      <td>26.5</td>\n",
              "      <td>5.1</td>\n",
              "      <td>2.0</td>\n",
              "      <td>7.1</td>\n",
              "      <td>0.264</td>\n",
              "      <td>5.7</td>\n",
              "      <td>2.4</td>\n",
              "      <td>8.1</td>\n",
              "      <td>6.905263</td>\n",
              "      <td>1</td>\n",
              "    </tr>\n",
              "    <tr>\n",
              "      <th>3</th>\n",
              "      <td>Stephen Curry</td>\n",
              "      <td>53</td>\n",
              "      <td>golden state warriors</td>\n",
              "      <td>25.811321</td>\n",
              "      <td>6.339623</td>\n",
              "      <td>1.396226</td>\n",
              "      <td>0.396226</td>\n",
              "      <td>0.425409</td>\n",
              "      <td>0.381098</td>\n",
              "      <td>5.339623</td>\n",
              "      <td>...</td>\n",
              "      <td>31.3</td>\n",
              "      <td>4.1</td>\n",
              "      <td>3.0</td>\n",
              "      <td>7.1</td>\n",
              "      <td>0.185</td>\n",
              "      <td>5.7</td>\n",
              "      <td>0.5</td>\n",
              "      <td>6.2</td>\n",
              "      <td>5.879245</td>\n",
              "      <td>1</td>\n",
              "    </tr>\n",
              "    <tr>\n",
              "      <th>4</th>\n",
              "      <td>DeMar DeRozan</td>\n",
              "      <td>54</td>\n",
              "      <td>chicago bulls</td>\n",
              "      <td>27.944444</td>\n",
              "      <td>5.129630</td>\n",
              "      <td>0.851852</td>\n",
              "      <td>0.314815</td>\n",
              "      <td>0.515464</td>\n",
              "      <td>0.336735</td>\n",
              "      <td>5.203704</td>\n",
              "      <td>...</td>\n",
              "      <td>31.7</td>\n",
              "      <td>6.3</td>\n",
              "      <td>1.3</td>\n",
              "      <td>7.6</td>\n",
              "      <td>0.190</td>\n",
              "      <td>4.3</td>\n",
              "      <td>-1.0</td>\n",
              "      <td>3.3</td>\n",
              "      <td>3.948148</td>\n",
              "      <td>1</td>\n",
              "    </tr>\n",
              "    <tr>\n",
              "      <th>5</th>\n",
              "      <td>Joel Embiid</td>\n",
              "      <td>44</td>\n",
              "      <td>philadelphia 76ers</td>\n",
              "      <td>29.545455</td>\n",
              "      <td>4.454545</td>\n",
              "      <td>1.045455</td>\n",
              "      <td>1.477273</td>\n",
              "      <td>0.492415</td>\n",
              "      <td>0.361963</td>\n",
              "      <td>11.159091</td>\n",
              "      <td>...</td>\n",
              "      <td>37.3</td>\n",
              "      <td>5.3</td>\n",
              "      <td>2.7</td>\n",
              "      <td>8.0</td>\n",
              "      <td>0.264</td>\n",
              "      <td>7.6</td>\n",
              "      <td>2.3</td>\n",
              "      <td>9.9</td>\n",
              "      <td>8.200000</td>\n",
              "      <td>1</td>\n",
              "    </tr>\n",
              "    <tr>\n",
              "      <th>6</th>\n",
              "      <td>Nikola Jokic</td>\n",
              "      <td>51</td>\n",
              "      <td>denver nuggets</td>\n",
              "      <td>25.823529</td>\n",
              "      <td>7.882353</td>\n",
              "      <td>1.352941</td>\n",
              "      <td>0.745098</td>\n",
              "      <td>0.570295</td>\n",
              "      <td>0.366516</td>\n",
              "      <td>13.745098</td>\n",
              "      <td>...</td>\n",
              "      <td>31.4</td>\n",
              "      <td>7.4</td>\n",
              "      <td>3.1</td>\n",
              "      <td>10.4</td>\n",
              "      <td>0.297</td>\n",
              "      <td>9.3</td>\n",
              "      <td>4.6</td>\n",
              "      <td>14.0</td>\n",
              "      <td>10.933333</td>\n",
              "      <td>1</td>\n",
              "    </tr>\n",
              "    <tr>\n",
              "      <th>7</th>\n",
              "      <td>Ja Morant</td>\n",
              "      <td>45</td>\n",
              "      <td>memphis grizzlies</td>\n",
              "      <td>26.422222</td>\n",
              "      <td>6.777778</td>\n",
              "      <td>1.244444</td>\n",
              "      <td>0.377778</td>\n",
              "      <td>0.493407</td>\n",
              "      <td>0.334975</td>\n",
              "      <td>5.866667</td>\n",
              "      <td>...</td>\n",
              "      <td>33.2</td>\n",
              "      <td>3.7</td>\n",
              "      <td>1.6</td>\n",
              "      <td>5.3</td>\n",
              "      <td>0.170</td>\n",
              "      <td>5.9</td>\n",
              "      <td>-0.2</td>\n",
              "      <td>5.7</td>\n",
              "      <td>5.284444</td>\n",
              "      <td>1</td>\n",
              "    </tr>\n",
              "    <tr>\n",
              "      <th>8</th>\n",
              "      <td>Chris Paul</td>\n",
              "      <td>56</td>\n",
              "      <td>phoenix suns</td>\n",
              "      <td>14.964286</td>\n",
              "      <td>10.696429</td>\n",
              "      <td>1.875000</td>\n",
              "      <td>0.321429</td>\n",
              "      <td>0.486111</td>\n",
              "      <td>0.335227</td>\n",
              "      <td>4.535714</td>\n",
              "      <td>...</td>\n",
              "      <td>19.9</td>\n",
              "      <td>5.3</td>\n",
              "      <td>3.2</td>\n",
              "      <td>8.5</td>\n",
              "      <td>0.219</td>\n",
              "      <td>3.1</td>\n",
              "      <td>2.2</td>\n",
              "      <td>5.3</td>\n",
              "      <td>4.978571</td>\n",
              "      <td>1</td>\n",
              "    </tr>\n",
              "  </tbody>\n",
              "</table>\n",
              "<p>9 rows × 35 columns</p>\n",
              "</div>\n",
              "      <button class=\"colab-df-convert\" onclick=\"convertToInteractive('df-d14b9ff7-727c-4cf2-9695-0b8cdb99d47c')\"\n",
              "              title=\"Convert this dataframe to an interactive table.\"\n",
              "              style=\"display:none;\">\n",
              "        \n",
              "  <svg xmlns=\"http://www.w3.org/2000/svg\" height=\"24px\"viewBox=\"0 0 24 24\"\n",
              "       width=\"24px\">\n",
              "    <path d=\"M0 0h24v24H0V0z\" fill=\"none\"/>\n",
              "    <path d=\"M18.56 5.44l.94 2.06.94-2.06 2.06-.94-2.06-.94-.94-2.06-.94 2.06-2.06.94zm-11 1L8.5 8.5l.94-2.06 2.06-.94-2.06-.94L8.5 2.5l-.94 2.06-2.06.94zm10 10l.94 2.06.94-2.06 2.06-.94-2.06-.94-.94-2.06-.94 2.06-2.06.94z\"/><path d=\"M17.41 7.96l-1.37-1.37c-.4-.4-.92-.59-1.43-.59-.52 0-1.04.2-1.43.59L10.3 9.45l-7.72 7.72c-.78.78-.78 2.05 0 2.83L4 21.41c.39.39.9.59 1.41.59.51 0 1.02-.2 1.41-.59l7.78-7.78 2.81-2.81c.8-.78.8-2.07 0-2.86zM5.41 20L4 18.59l7.72-7.72 1.47 1.35L5.41 20z\"/>\n",
              "  </svg>\n",
              "      </button>\n",
              "      \n",
              "  <style>\n",
              "    .colab-df-container {\n",
              "      display:flex;\n",
              "      flex-wrap:wrap;\n",
              "      gap: 12px;\n",
              "    }\n",
              "\n",
              "    .colab-df-convert {\n",
              "      background-color: #E8F0FE;\n",
              "      border: none;\n",
              "      border-radius: 50%;\n",
              "      cursor: pointer;\n",
              "      display: none;\n",
              "      fill: #1967D2;\n",
              "      height: 32px;\n",
              "      padding: 0 0 0 0;\n",
              "      width: 32px;\n",
              "    }\n",
              "\n",
              "    .colab-df-convert:hover {\n",
              "      background-color: #E2EBFA;\n",
              "      box-shadow: 0px 1px 2px rgba(60, 64, 67, 0.3), 0px 1px 3px 1px rgba(60, 64, 67, 0.15);\n",
              "      fill: #174EA6;\n",
              "    }\n",
              "\n",
              "    [theme=dark] .colab-df-convert {\n",
              "      background-color: #3B4455;\n",
              "      fill: #D2E3FC;\n",
              "    }\n",
              "\n",
              "    [theme=dark] .colab-df-convert:hover {\n",
              "      background-color: #434B5C;\n",
              "      box-shadow: 0px 1px 3px 1px rgba(0, 0, 0, 0.15);\n",
              "      filter: drop-shadow(0px 1px 2px rgba(0, 0, 0, 0.3));\n",
              "      fill: #FFFFFF;\n",
              "    }\n",
              "  </style>\n",
              "\n",
              "      <script>\n",
              "        const buttonEl =\n",
              "          document.querySelector('#df-d14b9ff7-727c-4cf2-9695-0b8cdb99d47c button.colab-df-convert');\n",
              "        buttonEl.style.display =\n",
              "          google.colab.kernel.accessAllowed ? 'block' : 'none';\n",
              "\n",
              "        async function convertToInteractive(key) {\n",
              "          const element = document.querySelector('#df-d14b9ff7-727c-4cf2-9695-0b8cdb99d47c');\n",
              "          const dataTable =\n",
              "            await google.colab.kernel.invokeFunction('convertToInteractive',\n",
              "                                                     [key], {});\n",
              "          if (!dataTable) return;\n",
              "\n",
              "          const docLinkHtml = 'Like what you see? Visit the ' +\n",
              "            '<a target=\"_blank\" href=https://colab.research.google.com/notebooks/data_table.ipynb>data table notebook</a>'\n",
              "            + ' to learn more about interactive tables.';\n",
              "          element.innerHTML = '';\n",
              "          dataTable['output_type'] = 'display_data';\n",
              "          await google.colab.output.renderOutput(dataTable, element);\n",
              "          const docLink = document.createElement('div');\n",
              "          docLink.innerHTML = docLinkHtml;\n",
              "          element.appendChild(docLink);\n",
              "        }\n",
              "      </script>\n",
              "    </div>\n",
              "  </div>\n",
              "  "
            ]
          },
          "metadata": {},
          "execution_count": 6
        }
      ],
      "source": [
        "statss"
      ]
    },
    {
      "cell_type": "code",
      "execution_count": 7,
      "metadata": {
        "colab": {
          "base_uri": "https://localhost:8080/",
          "height": 659
        },
        "id": "wiHSh9nv0asH",
        "outputId": "39dee2a7-0ee5-4345-9fa6-be0ea1841a4c"
      },
      "outputs": [
        {
          "output_type": "execute_result",
          "data": {
            "text/plain": [
              "       Unnamed: 0          Player Pos  Age   Tm   G  GS    MP   FG   FGA  ...  \\\n",
              "0               0      A.C. Green  PF   27  LAL  82  21  26.4  3.1   6.6  ...   \n",
              "1               1     Byron Scott  SG   29  LAL  82  82  32.1  6.1  12.8  ...   \n",
              "2               2  Elden Campbell  PF   22  LAL  52   0   7.3  1.1   2.4  ...   \n",
              "3               3   Irving Thomas  PF   25  LAL  26   0   4.2  0.7   1.9  ...   \n",
              "4               4    James Worthy  SF   29  LAL  78  74  38.6  9.2  18.7  ...   \n",
              "...           ...             ...  ..  ...  ...  ..  ..   ...  ...   ...  ...   \n",
              "14087       14087   Spencer Hawes  PF   28  MIL  54   1  14.8  2.5   5.1  ...   \n",
              "14088       14088     Steve Novak  PF   33  MIL   8   0   2.8  0.3   0.9  ...   \n",
              "14089       14089  Terrence Jones  PF   25  MIL  54  12  23.5  4.3   9.1  ...   \n",
              "14090       14090      Thon Maker   C   19  MIL  57  34   9.9  1.5   3.2  ...   \n",
              "14091       14091      Tony Snell  SG   25  MIL  80  80  29.2  3.1   6.8  ...   \n",
              "\n",
              "       Pts Max  Share                Team   W   L   W/L%   GB   PS/G   PA/G  \\\n",
              "0          0.0    0.0  Los Angeles Lakers  58  24  0.707  5.0  106.3   99.6   \n",
              "1          0.0    0.0  Los Angeles Lakers  58  24  0.707  5.0  106.3   99.6   \n",
              "2          0.0    0.0  Los Angeles Lakers  58  24  0.707  5.0  106.3   99.6   \n",
              "3          0.0    0.0  Los Angeles Lakers  58  24  0.707  5.0  106.3   99.6   \n",
              "4          0.0    0.0  Los Angeles Lakers  58  24  0.707  5.0  106.3   99.6   \n",
              "...        ...    ...                 ...  ..  ..    ...  ...    ...    ...   \n",
              "14087      0.0    0.0     Milwaukee Bucks  42  40  0.512  9.0  103.6  103.8   \n",
              "14088      0.0    0.0     Milwaukee Bucks  42  40  0.512  9.0  103.6  103.8   \n",
              "14089      0.0    0.0     Milwaukee Bucks  42  40  0.512  9.0  103.6  103.8   \n",
              "14090      0.0    0.0     Milwaukee Bucks  42  40  0.512  9.0  103.6  103.8   \n",
              "14091      0.0    0.0     Milwaukee Bucks  42  40  0.512  9.0  103.6  103.8   \n",
              "\n",
              "        SRS  \n",
              "0      6.73  \n",
              "1      6.73  \n",
              "2      6.73  \n",
              "3      6.73  \n",
              "4      6.73  \n",
              "...     ...  \n",
              "14087 -0.45  \n",
              "14088 -0.45  \n",
              "14089 -0.45  \n",
              "14090 -0.45  \n",
              "14091 -0.45  \n",
              "\n",
              "[14092 rows x 42 columns]"
            ],
            "text/html": [
              "\n",
              "  <div id=\"df-5388733a-d9a4-47ec-a58d-5219fffab379\">\n",
              "    <div class=\"colab-df-container\">\n",
              "      <div>\n",
              "<style scoped>\n",
              "    .dataframe tbody tr th:only-of-type {\n",
              "        vertical-align: middle;\n",
              "    }\n",
              "\n",
              "    .dataframe tbody tr th {\n",
              "        vertical-align: top;\n",
              "    }\n",
              "\n",
              "    .dataframe thead th {\n",
              "        text-align: right;\n",
              "    }\n",
              "</style>\n",
              "<table border=\"1\" class=\"dataframe\">\n",
              "  <thead>\n",
              "    <tr style=\"text-align: right;\">\n",
              "      <th></th>\n",
              "      <th>Unnamed: 0</th>\n",
              "      <th>Player</th>\n",
              "      <th>Pos</th>\n",
              "      <th>Age</th>\n",
              "      <th>Tm</th>\n",
              "      <th>G</th>\n",
              "      <th>GS</th>\n",
              "      <th>MP</th>\n",
              "      <th>FG</th>\n",
              "      <th>FGA</th>\n",
              "      <th>...</th>\n",
              "      <th>Pts Max</th>\n",
              "      <th>Share</th>\n",
              "      <th>Team</th>\n",
              "      <th>W</th>\n",
              "      <th>L</th>\n",
              "      <th>W/L%</th>\n",
              "      <th>GB</th>\n",
              "      <th>PS/G</th>\n",
              "      <th>PA/G</th>\n",
              "      <th>SRS</th>\n",
              "    </tr>\n",
              "  </thead>\n",
              "  <tbody>\n",
              "    <tr>\n",
              "      <th>0</th>\n",
              "      <td>0</td>\n",
              "      <td>A.C. Green</td>\n",
              "      <td>PF</td>\n",
              "      <td>27</td>\n",
              "      <td>LAL</td>\n",
              "      <td>82</td>\n",
              "      <td>21</td>\n",
              "      <td>26.4</td>\n",
              "      <td>3.1</td>\n",
              "      <td>6.6</td>\n",
              "      <td>...</td>\n",
              "      <td>0.0</td>\n",
              "      <td>0.0</td>\n",
              "      <td>Los Angeles Lakers</td>\n",
              "      <td>58</td>\n",
              "      <td>24</td>\n",
              "      <td>0.707</td>\n",
              "      <td>5.0</td>\n",
              "      <td>106.3</td>\n",
              "      <td>99.6</td>\n",
              "      <td>6.73</td>\n",
              "    </tr>\n",
              "    <tr>\n",
              "      <th>1</th>\n",
              "      <td>1</td>\n",
              "      <td>Byron Scott</td>\n",
              "      <td>SG</td>\n",
              "      <td>29</td>\n",
              "      <td>LAL</td>\n",
              "      <td>82</td>\n",
              "      <td>82</td>\n",
              "      <td>32.1</td>\n",
              "      <td>6.1</td>\n",
              "      <td>12.8</td>\n",
              "      <td>...</td>\n",
              "      <td>0.0</td>\n",
              "      <td>0.0</td>\n",
              "      <td>Los Angeles Lakers</td>\n",
              "      <td>58</td>\n",
              "      <td>24</td>\n",
              "      <td>0.707</td>\n",
              "      <td>5.0</td>\n",
              "      <td>106.3</td>\n",
              "      <td>99.6</td>\n",
              "      <td>6.73</td>\n",
              "    </tr>\n",
              "    <tr>\n",
              "      <th>2</th>\n",
              "      <td>2</td>\n",
              "      <td>Elden Campbell</td>\n",
              "      <td>PF</td>\n",
              "      <td>22</td>\n",
              "      <td>LAL</td>\n",
              "      <td>52</td>\n",
              "      <td>0</td>\n",
              "      <td>7.3</td>\n",
              "      <td>1.1</td>\n",
              "      <td>2.4</td>\n",
              "      <td>...</td>\n",
              "      <td>0.0</td>\n",
              "      <td>0.0</td>\n",
              "      <td>Los Angeles Lakers</td>\n",
              "      <td>58</td>\n",
              "      <td>24</td>\n",
              "      <td>0.707</td>\n",
              "      <td>5.0</td>\n",
              "      <td>106.3</td>\n",
              "      <td>99.6</td>\n",
              "      <td>6.73</td>\n",
              "    </tr>\n",
              "    <tr>\n",
              "      <th>3</th>\n",
              "      <td>3</td>\n",
              "      <td>Irving Thomas</td>\n",
              "      <td>PF</td>\n",
              "      <td>25</td>\n",
              "      <td>LAL</td>\n",
              "      <td>26</td>\n",
              "      <td>0</td>\n",
              "      <td>4.2</td>\n",
              "      <td>0.7</td>\n",
              "      <td>1.9</td>\n",
              "      <td>...</td>\n",
              "      <td>0.0</td>\n",
              "      <td>0.0</td>\n",
              "      <td>Los Angeles Lakers</td>\n",
              "      <td>58</td>\n",
              "      <td>24</td>\n",
              "      <td>0.707</td>\n",
              "      <td>5.0</td>\n",
              "      <td>106.3</td>\n",
              "      <td>99.6</td>\n",
              "      <td>6.73</td>\n",
              "    </tr>\n",
              "    <tr>\n",
              "      <th>4</th>\n",
              "      <td>4</td>\n",
              "      <td>James Worthy</td>\n",
              "      <td>SF</td>\n",
              "      <td>29</td>\n",
              "      <td>LAL</td>\n",
              "      <td>78</td>\n",
              "      <td>74</td>\n",
              "      <td>38.6</td>\n",
              "      <td>9.2</td>\n",
              "      <td>18.7</td>\n",
              "      <td>...</td>\n",
              "      <td>0.0</td>\n",
              "      <td>0.0</td>\n",
              "      <td>Los Angeles Lakers</td>\n",
              "      <td>58</td>\n",
              "      <td>24</td>\n",
              "      <td>0.707</td>\n",
              "      <td>5.0</td>\n",
              "      <td>106.3</td>\n",
              "      <td>99.6</td>\n",
              "      <td>6.73</td>\n",
              "    </tr>\n",
              "    <tr>\n",
              "      <th>...</th>\n",
              "      <td>...</td>\n",
              "      <td>...</td>\n",
              "      <td>...</td>\n",
              "      <td>...</td>\n",
              "      <td>...</td>\n",
              "      <td>...</td>\n",
              "      <td>...</td>\n",
              "      <td>...</td>\n",
              "      <td>...</td>\n",
              "      <td>...</td>\n",
              "      <td>...</td>\n",
              "      <td>...</td>\n",
              "      <td>...</td>\n",
              "      <td>...</td>\n",
              "      <td>...</td>\n",
              "      <td>...</td>\n",
              "      <td>...</td>\n",
              "      <td>...</td>\n",
              "      <td>...</td>\n",
              "      <td>...</td>\n",
              "      <td>...</td>\n",
              "    </tr>\n",
              "    <tr>\n",
              "      <th>14087</th>\n",
              "      <td>14087</td>\n",
              "      <td>Spencer Hawes</td>\n",
              "      <td>PF</td>\n",
              "      <td>28</td>\n",
              "      <td>MIL</td>\n",
              "      <td>54</td>\n",
              "      <td>1</td>\n",
              "      <td>14.8</td>\n",
              "      <td>2.5</td>\n",
              "      <td>5.1</td>\n",
              "      <td>...</td>\n",
              "      <td>0.0</td>\n",
              "      <td>0.0</td>\n",
              "      <td>Milwaukee Bucks</td>\n",
              "      <td>42</td>\n",
              "      <td>40</td>\n",
              "      <td>0.512</td>\n",
              "      <td>9.0</td>\n",
              "      <td>103.6</td>\n",
              "      <td>103.8</td>\n",
              "      <td>-0.45</td>\n",
              "    </tr>\n",
              "    <tr>\n",
              "      <th>14088</th>\n",
              "      <td>14088</td>\n",
              "      <td>Steve Novak</td>\n",
              "      <td>PF</td>\n",
              "      <td>33</td>\n",
              "      <td>MIL</td>\n",
              "      <td>8</td>\n",
              "      <td>0</td>\n",
              "      <td>2.8</td>\n",
              "      <td>0.3</td>\n",
              "      <td>0.9</td>\n",
              "      <td>...</td>\n",
              "      <td>0.0</td>\n",
              "      <td>0.0</td>\n",
              "      <td>Milwaukee Bucks</td>\n",
              "      <td>42</td>\n",
              "      <td>40</td>\n",
              "      <td>0.512</td>\n",
              "      <td>9.0</td>\n",
              "      <td>103.6</td>\n",
              "      <td>103.8</td>\n",
              "      <td>-0.45</td>\n",
              "    </tr>\n",
              "    <tr>\n",
              "      <th>14089</th>\n",
              "      <td>14089</td>\n",
              "      <td>Terrence Jones</td>\n",
              "      <td>PF</td>\n",
              "      <td>25</td>\n",
              "      <td>MIL</td>\n",
              "      <td>54</td>\n",
              "      <td>12</td>\n",
              "      <td>23.5</td>\n",
              "      <td>4.3</td>\n",
              "      <td>9.1</td>\n",
              "      <td>...</td>\n",
              "      <td>0.0</td>\n",
              "      <td>0.0</td>\n",
              "      <td>Milwaukee Bucks</td>\n",
              "      <td>42</td>\n",
              "      <td>40</td>\n",
              "      <td>0.512</td>\n",
              "      <td>9.0</td>\n",
              "      <td>103.6</td>\n",
              "      <td>103.8</td>\n",
              "      <td>-0.45</td>\n",
              "    </tr>\n",
              "    <tr>\n",
              "      <th>14090</th>\n",
              "      <td>14090</td>\n",
              "      <td>Thon Maker</td>\n",
              "      <td>C</td>\n",
              "      <td>19</td>\n",
              "      <td>MIL</td>\n",
              "      <td>57</td>\n",
              "      <td>34</td>\n",
              "      <td>9.9</td>\n",
              "      <td>1.5</td>\n",
              "      <td>3.2</td>\n",
              "      <td>...</td>\n",
              "      <td>0.0</td>\n",
              "      <td>0.0</td>\n",
              "      <td>Milwaukee Bucks</td>\n",
              "      <td>42</td>\n",
              "      <td>40</td>\n",
              "      <td>0.512</td>\n",
              "      <td>9.0</td>\n",
              "      <td>103.6</td>\n",
              "      <td>103.8</td>\n",
              "      <td>-0.45</td>\n",
              "    </tr>\n",
              "    <tr>\n",
              "      <th>14091</th>\n",
              "      <td>14091</td>\n",
              "      <td>Tony Snell</td>\n",
              "      <td>SG</td>\n",
              "      <td>25</td>\n",
              "      <td>MIL</td>\n",
              "      <td>80</td>\n",
              "      <td>80</td>\n",
              "      <td>29.2</td>\n",
              "      <td>3.1</td>\n",
              "      <td>6.8</td>\n",
              "      <td>...</td>\n",
              "      <td>0.0</td>\n",
              "      <td>0.0</td>\n",
              "      <td>Milwaukee Bucks</td>\n",
              "      <td>42</td>\n",
              "      <td>40</td>\n",
              "      <td>0.512</td>\n",
              "      <td>9.0</td>\n",
              "      <td>103.6</td>\n",
              "      <td>103.8</td>\n",
              "      <td>-0.45</td>\n",
              "    </tr>\n",
              "  </tbody>\n",
              "</table>\n",
              "<p>14092 rows × 42 columns</p>\n",
              "</div>\n",
              "      <button class=\"colab-df-convert\" onclick=\"convertToInteractive('df-5388733a-d9a4-47ec-a58d-5219fffab379')\"\n",
              "              title=\"Convert this dataframe to an interactive table.\"\n",
              "              style=\"display:none;\">\n",
              "        \n",
              "  <svg xmlns=\"http://www.w3.org/2000/svg\" height=\"24px\"viewBox=\"0 0 24 24\"\n",
              "       width=\"24px\">\n",
              "    <path d=\"M0 0h24v24H0V0z\" fill=\"none\"/>\n",
              "    <path d=\"M18.56 5.44l.94 2.06.94-2.06 2.06-.94-2.06-.94-.94-2.06-.94 2.06-2.06.94zm-11 1L8.5 8.5l.94-2.06 2.06-.94-2.06-.94L8.5 2.5l-.94 2.06-2.06.94zm10 10l.94 2.06.94-2.06 2.06-.94-2.06-.94-.94-2.06-.94 2.06-2.06.94z\"/><path d=\"M17.41 7.96l-1.37-1.37c-.4-.4-.92-.59-1.43-.59-.52 0-1.04.2-1.43.59L10.3 9.45l-7.72 7.72c-.78.78-.78 2.05 0 2.83L4 21.41c.39.39.9.59 1.41.59.51 0 1.02-.2 1.41-.59l7.78-7.78 2.81-2.81c.8-.78.8-2.07 0-2.86zM5.41 20L4 18.59l7.72-7.72 1.47 1.35L5.41 20z\"/>\n",
              "  </svg>\n",
              "      </button>\n",
              "      \n",
              "  <style>\n",
              "    .colab-df-container {\n",
              "      display:flex;\n",
              "      flex-wrap:wrap;\n",
              "      gap: 12px;\n",
              "    }\n",
              "\n",
              "    .colab-df-convert {\n",
              "      background-color: #E8F0FE;\n",
              "      border: none;\n",
              "      border-radius: 50%;\n",
              "      cursor: pointer;\n",
              "      display: none;\n",
              "      fill: #1967D2;\n",
              "      height: 32px;\n",
              "      padding: 0 0 0 0;\n",
              "      width: 32px;\n",
              "    }\n",
              "\n",
              "    .colab-df-convert:hover {\n",
              "      background-color: #E2EBFA;\n",
              "      box-shadow: 0px 1px 2px rgba(60, 64, 67, 0.3), 0px 1px 3px 1px rgba(60, 64, 67, 0.15);\n",
              "      fill: #174EA6;\n",
              "    }\n",
              "\n",
              "    [theme=dark] .colab-df-convert {\n",
              "      background-color: #3B4455;\n",
              "      fill: #D2E3FC;\n",
              "    }\n",
              "\n",
              "    [theme=dark] .colab-df-convert:hover {\n",
              "      background-color: #434B5C;\n",
              "      box-shadow: 0px 1px 3px 1px rgba(0, 0, 0, 0.15);\n",
              "      filter: drop-shadow(0px 1px 2px rgba(0, 0, 0, 0.3));\n",
              "      fill: #FFFFFF;\n",
              "    }\n",
              "  </style>\n",
              "\n",
              "      <script>\n",
              "        const buttonEl =\n",
              "          document.querySelector('#df-5388733a-d9a4-47ec-a58d-5219fffab379 button.colab-df-convert');\n",
              "        buttonEl.style.display =\n",
              "          google.colab.kernel.accessAllowed ? 'block' : 'none';\n",
              "\n",
              "        async function convertToInteractive(key) {\n",
              "          const element = document.querySelector('#df-5388733a-d9a4-47ec-a58d-5219fffab379');\n",
              "          const dataTable =\n",
              "            await google.colab.kernel.invokeFunction('convertToInteractive',\n",
              "                                                     [key], {});\n",
              "          if (!dataTable) return;\n",
              "\n",
              "          const docLinkHtml = 'Like what you see? Visit the ' +\n",
              "            '<a target=\"_blank\" href=https://colab.research.google.com/notebooks/data_table.ipynb>data table notebook</a>'\n",
              "            + ' to learn more about interactive tables.';\n",
              "          element.innerHTML = '';\n",
              "          dataTable['output_type'] = 'display_data';\n",
              "          await google.colab.output.renderOutput(dataTable, element);\n",
              "          const docLink = document.createElement('div');\n",
              "          docLink.innerHTML = docLinkHtml;\n",
              "          element.appendChild(docLink);\n",
              "        }\n",
              "      </script>\n",
              "    </div>\n",
              "  </div>\n",
              "  "
            ]
          },
          "metadata": {},
          "execution_count": 7
        }
      ],
      "source": [
        "stats"
      ]
    },
    {
      "cell_type": "code",
      "execution_count": 8,
      "metadata": {
        "id": "rn_Ph9-30fET"
      },
      "outputs": [],
      "source": [
        "del stats[\"Unnamed: 0\"] #deletes first column"
      ]
    },
    {
      "cell_type": "code",
      "execution_count": 9,
      "metadata": {
        "colab": {
          "base_uri": "https://localhost:8080/"
        },
        "id": "KeYS1Dz70uP7",
        "outputId": "686e706d-83c6-4528-80d8-50bb9ce2274a"
      },
      "outputs": [
        {
          "output_type": "execute_result",
          "data": {
            "text/plain": [
              "Player        0\n",
              "Pos           0\n",
              "Age           0\n",
              "Tm            0\n",
              "G             0\n",
              "GS            0\n",
              "MP            0\n",
              "FG            0\n",
              "FGA           0\n",
              "FG%          50\n",
              "3P            0\n",
              "3PA           0\n",
              "3P%        2042\n",
              "2P            0\n",
              "2PA           0\n",
              "2P%          84\n",
              "eFG%         50\n",
              "FT            0\n",
              "FTA           0\n",
              "FT%         462\n",
              "ORB           0\n",
              "DRB           0\n",
              "TRB           0\n",
              "AST           0\n",
              "STL           0\n",
              "BLK           0\n",
              "TOV           0\n",
              "PF            0\n",
              "PTS           0\n",
              "Year          0\n",
              "Pts Won       0\n",
              "Pts Max       0\n",
              "Share         0\n",
              "Team          0\n",
              "W             0\n",
              "L             0\n",
              "W/L%          0\n",
              "GB            0\n",
              "PS/G          0\n",
              "PA/G          0\n",
              "SRS           0\n",
              "dtype: int64"
            ]
          },
          "metadata": {},
          "execution_count": 9
        }
      ],
      "source": [
        "pd.isnull(stats).sum() #checks for null data"
      ]
    },
    {
      "cell_type": "code",
      "execution_count": 10,
      "metadata": {
        "colab": {
          "base_uri": "https://localhost:8080/"
        },
        "id": "E1jnlLzclZme",
        "outputId": "99185e81-e10f-485e-92cc-3f7cc832c233"
      },
      "outputs": [
        {
          "output_type": "execute_result",
          "data": {
            "text/plain": [
              "Player                           0\n",
              "games_played                     0\n",
              "team                             0\n",
              "PTS                              0\n",
              "AST                              0\n",
              "STL                              0\n",
              "BLK                              0\n",
              "FG%                              0\n",
              "3P%                              0\n",
              "TRB                              0\n",
              "Tm                               0\n",
              "W                                0\n",
              "W/L%                             0\n",
              "seed                             0\n",
              "player_efficiency_rating         0\n",
              "true_shooting_percentage         0\n",
              "three_point_attempt_rate         0\n",
              "free_throw_attempt_rate          0\n",
              "offensive_rebound_percentage     0\n",
              "defensive_rebound_percentage     0\n",
              "total_rebound_percentage         0\n",
              "assist_percentage                0\n",
              "steal_percentage                 0\n",
              "block_percentage                 0\n",
              "turnover_percentage              0\n",
              "usage_percentage                 0\n",
              "offensive_win_shares             0\n",
              "defensive_win_shares             0\n",
              "win_shares                       0\n",
              "win_shares_per_48_minutes        0\n",
              "offensive_box_plus_minus         0\n",
              "defensive_box_plus_minus         0\n",
              "box_plus_minus                   0\n",
              "value_over_replacement_player    0\n",
              "Similar                          0\n",
              "dtype: int64"
            ]
          },
          "metadata": {},
          "execution_count": 10
        }
      ],
      "source": [
        "pd.isnull(statss).sum()"
      ]
    },
    {
      "cell_type": "code",
      "execution_count": 11,
      "metadata": {
        "colab": {
          "base_uri": "https://localhost:8080/",
          "height": 206
        },
        "id": "ipx90nKlxnjs",
        "outputId": "5d1e5e13-83a3-4756-c22b-e8aaf8e90ad3"
      },
      "outputs": [
        {
          "output_type": "execute_result",
          "data": {
            "text/plain": [
              "             Player  3PA\n",
              "2    Elden Campbell  0.0\n",
              "3     Irving Thomas  0.0\n",
              "18       Jack Haley  0.0\n",
              "20      Keith Owens  0.0\n",
              "30  Benoit Benjamin  0.0"
            ],
            "text/html": [
              "\n",
              "  <div id=\"df-5ff966aa-91fd-4115-b856-4a474474abb2\">\n",
              "    <div class=\"colab-df-container\">\n",
              "      <div>\n",
              "<style scoped>\n",
              "    .dataframe tbody tr th:only-of-type {\n",
              "        vertical-align: middle;\n",
              "    }\n",
              "\n",
              "    .dataframe tbody tr th {\n",
              "        vertical-align: top;\n",
              "    }\n",
              "\n",
              "    .dataframe thead th {\n",
              "        text-align: right;\n",
              "    }\n",
              "</style>\n",
              "<table border=\"1\" class=\"dataframe\">\n",
              "  <thead>\n",
              "    <tr style=\"text-align: right;\">\n",
              "      <th></th>\n",
              "      <th>Player</th>\n",
              "      <th>3PA</th>\n",
              "    </tr>\n",
              "  </thead>\n",
              "  <tbody>\n",
              "    <tr>\n",
              "      <th>2</th>\n",
              "      <td>Elden Campbell</td>\n",
              "      <td>0.0</td>\n",
              "    </tr>\n",
              "    <tr>\n",
              "      <th>3</th>\n",
              "      <td>Irving Thomas</td>\n",
              "      <td>0.0</td>\n",
              "    </tr>\n",
              "    <tr>\n",
              "      <th>18</th>\n",
              "      <td>Jack Haley</td>\n",
              "      <td>0.0</td>\n",
              "    </tr>\n",
              "    <tr>\n",
              "      <th>20</th>\n",
              "      <td>Keith Owens</td>\n",
              "      <td>0.0</td>\n",
              "    </tr>\n",
              "    <tr>\n",
              "      <th>30</th>\n",
              "      <td>Benoit Benjamin</td>\n",
              "      <td>0.0</td>\n",
              "    </tr>\n",
              "  </tbody>\n",
              "</table>\n",
              "</div>\n",
              "      <button class=\"colab-df-convert\" onclick=\"convertToInteractive('df-5ff966aa-91fd-4115-b856-4a474474abb2')\"\n",
              "              title=\"Convert this dataframe to an interactive table.\"\n",
              "              style=\"display:none;\">\n",
              "        \n",
              "  <svg xmlns=\"http://www.w3.org/2000/svg\" height=\"24px\"viewBox=\"0 0 24 24\"\n",
              "       width=\"24px\">\n",
              "    <path d=\"M0 0h24v24H0V0z\" fill=\"none\"/>\n",
              "    <path d=\"M18.56 5.44l.94 2.06.94-2.06 2.06-.94-2.06-.94-.94-2.06-.94 2.06-2.06.94zm-11 1L8.5 8.5l.94-2.06 2.06-.94-2.06-.94L8.5 2.5l-.94 2.06-2.06.94zm10 10l.94 2.06.94-2.06 2.06-.94-2.06-.94-.94-2.06-.94 2.06-2.06.94z\"/><path d=\"M17.41 7.96l-1.37-1.37c-.4-.4-.92-.59-1.43-.59-.52 0-1.04.2-1.43.59L10.3 9.45l-7.72 7.72c-.78.78-.78 2.05 0 2.83L4 21.41c.39.39.9.59 1.41.59.51 0 1.02-.2 1.41-.59l7.78-7.78 2.81-2.81c.8-.78.8-2.07 0-2.86zM5.41 20L4 18.59l7.72-7.72 1.47 1.35L5.41 20z\"/>\n",
              "  </svg>\n",
              "      </button>\n",
              "      \n",
              "  <style>\n",
              "    .colab-df-container {\n",
              "      display:flex;\n",
              "      flex-wrap:wrap;\n",
              "      gap: 12px;\n",
              "    }\n",
              "\n",
              "    .colab-df-convert {\n",
              "      background-color: #E8F0FE;\n",
              "      border: none;\n",
              "      border-radius: 50%;\n",
              "      cursor: pointer;\n",
              "      display: none;\n",
              "      fill: #1967D2;\n",
              "      height: 32px;\n",
              "      padding: 0 0 0 0;\n",
              "      width: 32px;\n",
              "    }\n",
              "\n",
              "    .colab-df-convert:hover {\n",
              "      background-color: #E2EBFA;\n",
              "      box-shadow: 0px 1px 2px rgba(60, 64, 67, 0.3), 0px 1px 3px 1px rgba(60, 64, 67, 0.15);\n",
              "      fill: #174EA6;\n",
              "    }\n",
              "\n",
              "    [theme=dark] .colab-df-convert {\n",
              "      background-color: #3B4455;\n",
              "      fill: #D2E3FC;\n",
              "    }\n",
              "\n",
              "    [theme=dark] .colab-df-convert:hover {\n",
              "      background-color: #434B5C;\n",
              "      box-shadow: 0px 1px 3px 1px rgba(0, 0, 0, 0.15);\n",
              "      filter: drop-shadow(0px 1px 2px rgba(0, 0, 0, 0.3));\n",
              "      fill: #FFFFFF;\n",
              "    }\n",
              "  </style>\n",
              "\n",
              "      <script>\n",
              "        const buttonEl =\n",
              "          document.querySelector('#df-5ff966aa-91fd-4115-b856-4a474474abb2 button.colab-df-convert');\n",
              "        buttonEl.style.display =\n",
              "          google.colab.kernel.accessAllowed ? 'block' : 'none';\n",
              "\n",
              "        async function convertToInteractive(key) {\n",
              "          const element = document.querySelector('#df-5ff966aa-91fd-4115-b856-4a474474abb2');\n",
              "          const dataTable =\n",
              "            await google.colab.kernel.invokeFunction('convertToInteractive',\n",
              "                                                     [key], {});\n",
              "          if (!dataTable) return;\n",
              "\n",
              "          const docLinkHtml = 'Like what you see? Visit the ' +\n",
              "            '<a target=\"_blank\" href=https://colab.research.google.com/notebooks/data_table.ipynb>data table notebook</a>'\n",
              "            + ' to learn more about interactive tables.';\n",
              "          element.innerHTML = '';\n",
              "          dataTable['output_type'] = 'display_data';\n",
              "          await google.colab.output.renderOutput(dataTable, element);\n",
              "          const docLink = document.createElement('div');\n",
              "          docLink.innerHTML = docLinkHtml;\n",
              "          element.appendChild(docLink);\n",
              "        }\n",
              "      </script>\n",
              "    </div>\n",
              "  </div>\n",
              "  "
            ]
          },
          "metadata": {},
          "execution_count": 11
        }
      ],
      "source": [
        "stats[pd.isnull(stats[\"3P%\"])][[\"Player\", \"3PA\"]].head() #checks for null in these columns"
      ]
    },
    {
      "cell_type": "code",
      "execution_count": 12,
      "metadata": {
        "colab": {
          "base_uri": "https://localhost:8080/",
          "height": 206
        },
        "id": "Ei-nPFDC1Cer",
        "outputId": "12561090-aab6-4bb4-d8e8-23dca444ef3e"
      },
      "outputs": [
        {
          "output_type": "execute_result",
          "data": {
            "text/plain": [
              "              Player  FTA\n",
              "77        John Coker  0.0\n",
              "92      Jason Sasser  0.0\n",
              "103  Adrian Caldwell  0.0\n",
              "119     Bruno Šundov  0.0\n",
              "158   Jamal Robinson  0.0"
            ],
            "text/html": [
              "\n",
              "  <div id=\"df-ddee393f-afba-4324-b0c4-245ad5cb2e89\">\n",
              "    <div class=\"colab-df-container\">\n",
              "      <div>\n",
              "<style scoped>\n",
              "    .dataframe tbody tr th:only-of-type {\n",
              "        vertical-align: middle;\n",
              "    }\n",
              "\n",
              "    .dataframe tbody tr th {\n",
              "        vertical-align: top;\n",
              "    }\n",
              "\n",
              "    .dataframe thead th {\n",
              "        text-align: right;\n",
              "    }\n",
              "</style>\n",
              "<table border=\"1\" class=\"dataframe\">\n",
              "  <thead>\n",
              "    <tr style=\"text-align: right;\">\n",
              "      <th></th>\n",
              "      <th>Player</th>\n",
              "      <th>FTA</th>\n",
              "    </tr>\n",
              "  </thead>\n",
              "  <tbody>\n",
              "    <tr>\n",
              "      <th>77</th>\n",
              "      <td>John Coker</td>\n",
              "      <td>0.0</td>\n",
              "    </tr>\n",
              "    <tr>\n",
              "      <th>92</th>\n",
              "      <td>Jason Sasser</td>\n",
              "      <td>0.0</td>\n",
              "    </tr>\n",
              "    <tr>\n",
              "      <th>103</th>\n",
              "      <td>Adrian Caldwell</td>\n",
              "      <td>0.0</td>\n",
              "    </tr>\n",
              "    <tr>\n",
              "      <th>119</th>\n",
              "      <td>Bruno Šundov</td>\n",
              "      <td>0.0</td>\n",
              "    </tr>\n",
              "    <tr>\n",
              "      <th>158</th>\n",
              "      <td>Jamal Robinson</td>\n",
              "      <td>0.0</td>\n",
              "    </tr>\n",
              "  </tbody>\n",
              "</table>\n",
              "</div>\n",
              "      <button class=\"colab-df-convert\" onclick=\"convertToInteractive('df-ddee393f-afba-4324-b0c4-245ad5cb2e89')\"\n",
              "              title=\"Convert this dataframe to an interactive table.\"\n",
              "              style=\"display:none;\">\n",
              "        \n",
              "  <svg xmlns=\"http://www.w3.org/2000/svg\" height=\"24px\"viewBox=\"0 0 24 24\"\n",
              "       width=\"24px\">\n",
              "    <path d=\"M0 0h24v24H0V0z\" fill=\"none\"/>\n",
              "    <path d=\"M18.56 5.44l.94 2.06.94-2.06 2.06-.94-2.06-.94-.94-2.06-.94 2.06-2.06.94zm-11 1L8.5 8.5l.94-2.06 2.06-.94-2.06-.94L8.5 2.5l-.94 2.06-2.06.94zm10 10l.94 2.06.94-2.06 2.06-.94-2.06-.94-.94-2.06-.94 2.06-2.06.94z\"/><path d=\"M17.41 7.96l-1.37-1.37c-.4-.4-.92-.59-1.43-.59-.52 0-1.04.2-1.43.59L10.3 9.45l-7.72 7.72c-.78.78-.78 2.05 0 2.83L4 21.41c.39.39.9.59 1.41.59.51 0 1.02-.2 1.41-.59l7.78-7.78 2.81-2.81c.8-.78.8-2.07 0-2.86zM5.41 20L4 18.59l7.72-7.72 1.47 1.35L5.41 20z\"/>\n",
              "  </svg>\n",
              "      </button>\n",
              "      \n",
              "  <style>\n",
              "    .colab-df-container {\n",
              "      display:flex;\n",
              "      flex-wrap:wrap;\n",
              "      gap: 12px;\n",
              "    }\n",
              "\n",
              "    .colab-df-convert {\n",
              "      background-color: #E8F0FE;\n",
              "      border: none;\n",
              "      border-radius: 50%;\n",
              "      cursor: pointer;\n",
              "      display: none;\n",
              "      fill: #1967D2;\n",
              "      height: 32px;\n",
              "      padding: 0 0 0 0;\n",
              "      width: 32px;\n",
              "    }\n",
              "\n",
              "    .colab-df-convert:hover {\n",
              "      background-color: #E2EBFA;\n",
              "      box-shadow: 0px 1px 2px rgba(60, 64, 67, 0.3), 0px 1px 3px 1px rgba(60, 64, 67, 0.15);\n",
              "      fill: #174EA6;\n",
              "    }\n",
              "\n",
              "    [theme=dark] .colab-df-convert {\n",
              "      background-color: #3B4455;\n",
              "      fill: #D2E3FC;\n",
              "    }\n",
              "\n",
              "    [theme=dark] .colab-df-convert:hover {\n",
              "      background-color: #434B5C;\n",
              "      box-shadow: 0px 1px 3px 1px rgba(0, 0, 0, 0.15);\n",
              "      filter: drop-shadow(0px 1px 2px rgba(0, 0, 0, 0.3));\n",
              "      fill: #FFFFFF;\n",
              "    }\n",
              "  </style>\n",
              "\n",
              "      <script>\n",
              "        const buttonEl =\n",
              "          document.querySelector('#df-ddee393f-afba-4324-b0c4-245ad5cb2e89 button.colab-df-convert');\n",
              "        buttonEl.style.display =\n",
              "          google.colab.kernel.accessAllowed ? 'block' : 'none';\n",
              "\n",
              "        async function convertToInteractive(key) {\n",
              "          const element = document.querySelector('#df-ddee393f-afba-4324-b0c4-245ad5cb2e89');\n",
              "          const dataTable =\n",
              "            await google.colab.kernel.invokeFunction('convertToInteractive',\n",
              "                                                     [key], {});\n",
              "          if (!dataTable) return;\n",
              "\n",
              "          const docLinkHtml = 'Like what you see? Visit the ' +\n",
              "            '<a target=\"_blank\" href=https://colab.research.google.com/notebooks/data_table.ipynb>data table notebook</a>'\n",
              "            + ' to learn more about interactive tables.';\n",
              "          element.innerHTML = '';\n",
              "          dataTable['output_type'] = 'display_data';\n",
              "          await google.colab.output.renderOutput(dataTable, element);\n",
              "          const docLink = document.createElement('div');\n",
              "          docLink.innerHTML = docLinkHtml;\n",
              "          element.appendChild(docLink);\n",
              "        }\n",
              "      </script>\n",
              "    </div>\n",
              "  </div>\n",
              "  "
            ]
          },
          "metadata": {},
          "execution_count": 12
        }
      ],
      "source": [
        "stats[pd.isnull(stats[\"FT%\"])][[\"Player\", \"FTA\"]].head() #checks for null in these columns"
      ]
    },
    {
      "cell_type": "code",
      "execution_count": 13,
      "metadata": {
        "id": "_t_9pU6j1Zrc"
      },
      "outputs": [],
      "source": [
        "stats = stats.fillna(0) #replaces N/A's with 0"
      ]
    },
    {
      "cell_type": "code",
      "execution_count": 14,
      "metadata": {
        "id": "kXVaLfZnll5L"
      },
      "outputs": [],
      "source": [
        "statss = statss.fillna(0) #replaces N/A's with 0"
      ]
    },
    {
      "cell_type": "code",
      "execution_count": 15,
      "metadata": {
        "colab": {
          "base_uri": "https://localhost:8080/"
        },
        "id": "8uvFH-6r1uhK",
        "outputId": "e5d2a5bd-0e65-4647-d822-31972c2398f2"
      },
      "outputs": [
        {
          "output_type": "execute_result",
          "data": {
            "text/plain": [
              "Index(['Player', 'Pos', 'Age', 'Tm', 'G', 'GS', 'MP', 'FG', 'FGA', 'FG%', '3P',\n",
              "       '3PA', '3P%', '2P', '2PA', '2P%', 'eFG%', 'FT', 'FTA', 'FT%', 'ORB',\n",
              "       'DRB', 'TRB', 'AST', 'STL', 'BLK', 'TOV', 'PF', 'PTS', 'Year',\n",
              "       'Pts Won', 'Pts Max', 'Share', 'Team', 'W', 'L', 'W/L%', 'GB', 'PS/G',\n",
              "       'PA/G', 'SRS'],\n",
              "      dtype='object')"
            ]
          },
          "metadata": {},
          "execution_count": 15
        }
      ],
      "source": [
        "stats.columns"
      ]
    },
    {
      "cell_type": "code",
      "execution_count": 16,
      "metadata": {
        "colab": {
          "base_uri": "https://localhost:8080/"
        },
        "id": "kDM2Q1qklr8i",
        "outputId": "660e324b-3683-4665-ecf9-73acdee4f878"
      },
      "outputs": [
        {
          "output_type": "execute_result",
          "data": {
            "text/plain": [
              "Index(['Player', 'games_played', 'team', 'PTS', 'AST', 'STL', 'BLK', 'FG%',\n",
              "       '3P%', 'TRB', 'Tm', 'W', 'W/L%', 'seed', 'player_efficiency_rating',\n",
              "       'true_shooting_percentage', 'three_point_attempt_rate',\n",
              "       'free_throw_attempt_rate', 'offensive_rebound_percentage',\n",
              "       'defensive_rebound_percentage', 'total_rebound_percentage',\n",
              "       'assist_percentage', 'steal_percentage', 'block_percentage',\n",
              "       'turnover_percentage', 'usage_percentage', 'offensive_win_shares',\n",
              "       'defensive_win_shares', 'win_shares', 'win_shares_per_48_minutes',\n",
              "       'offensive_box_plus_minus', 'defensive_box_plus_minus',\n",
              "       'box_plus_minus', 'value_over_replacement_player', 'Similar'],\n",
              "      dtype='object')"
            ]
          },
          "metadata": {},
          "execution_count": 16
        }
      ],
      "source": [
        "statss.columns"
      ]
    },
    {
      "cell_type": "code",
      "execution_count": 17,
      "metadata": {
        "id": "Rup5bIjF1xRs"
      },
      "outputs": [],
      "source": [
        "predictors = [\"Age\", \"G\", \"GS\", \"MP\", \"FG\", \"FGA\", 'FG%', '3P', '3PA', '3P%', '2P', '2PA', '2P%', 'eFG%', 'FT', 'FTA', 'FT%', 'ORB', 'DRB', 'TRB', 'AST', 'STL', 'BLK', 'TOV', 'PF', 'PTS', 'W', 'L', 'W/L%',\n",
        "       'GB', 'PS/G', 'PA/G', 'SRS'] #variables used to predict MVP"
      ]
    },
    {
      "cell_type": "code",
      "execution_count": 18,
      "metadata": {
        "id": "cGkVgCbF2Yqm"
      },
      "outputs": [],
      "source": [
        "train = stats[stats[\"Year\"] <= 2021] #training set"
      ]
    },
    {
      "cell_type": "code",
      "execution_count": 19,
      "metadata": {
        "id": "3mbFIC8s2exV"
      },
      "outputs": [],
      "source": [
        "test = statss[statss[\"Similar\"] == 1] #testing set (smaller)"
      ]
    },
    {
      "cell_type": "code",
      "execution_count": 20,
      "metadata": {
        "id": "_j1WbrJo2jkq"
      },
      "outputs": [],
      "source": [
        "from sklearn.linear_model import Ridge #form of linear regression which prevents overfitiing\n",
        "#shrinks linear regression coefficient\n",
        "\n",
        "reg = Ridge(alpha = 0.1) #initialize ridge model\n",
        "#change for better acuraccy\n",
        "#alpha is how much the coefficient is goint to be shrunk"
      ]
    },
    {
      "cell_type": "code",
      "execution_count": 21,
      "metadata": {
        "colab": {
          "base_uri": "https://localhost:8080/",
          "height": 75
        },
        "id": "zdQ7HqfO3K4v",
        "outputId": "dfc9eab1-aec2-4dfd-b865-7a6f1fce6a19"
      },
      "outputs": [
        {
          "output_type": "execute_result",
          "data": {
            "text/plain": [
              "Ridge(alpha=0.1)"
            ],
            "text/html": [
              "<style>#sk-container-id-1 {color: black;background-color: white;}#sk-container-id-1 pre{padding: 0;}#sk-container-id-1 div.sk-toggleable {background-color: white;}#sk-container-id-1 label.sk-toggleable__label {cursor: pointer;display: block;width: 100%;margin-bottom: 0;padding: 0.3em;box-sizing: border-box;text-align: center;}#sk-container-id-1 label.sk-toggleable__label-arrow:before {content: \"▸\";float: left;margin-right: 0.25em;color: #696969;}#sk-container-id-1 label.sk-toggleable__label-arrow:hover:before {color: black;}#sk-container-id-1 div.sk-estimator:hover label.sk-toggleable__label-arrow:before {color: black;}#sk-container-id-1 div.sk-toggleable__content {max-height: 0;max-width: 0;overflow: hidden;text-align: left;background-color: #f0f8ff;}#sk-container-id-1 div.sk-toggleable__content pre {margin: 0.2em;color: black;border-radius: 0.25em;background-color: #f0f8ff;}#sk-container-id-1 input.sk-toggleable__control:checked~div.sk-toggleable__content {max-height: 200px;max-width: 100%;overflow: auto;}#sk-container-id-1 input.sk-toggleable__control:checked~label.sk-toggleable__label-arrow:before {content: \"▾\";}#sk-container-id-1 div.sk-estimator input.sk-toggleable__control:checked~label.sk-toggleable__label {background-color: #d4ebff;}#sk-container-id-1 div.sk-label input.sk-toggleable__control:checked~label.sk-toggleable__label {background-color: #d4ebff;}#sk-container-id-1 input.sk-hidden--visually {border: 0;clip: rect(1px 1px 1px 1px);clip: rect(1px, 1px, 1px, 1px);height: 1px;margin: -1px;overflow: hidden;padding: 0;position: absolute;width: 1px;}#sk-container-id-1 div.sk-estimator {font-family: monospace;background-color: #f0f8ff;border: 1px dotted black;border-radius: 0.25em;box-sizing: border-box;margin-bottom: 0.5em;}#sk-container-id-1 div.sk-estimator:hover {background-color: #d4ebff;}#sk-container-id-1 div.sk-parallel-item::after {content: \"\";width: 100%;border-bottom: 1px solid gray;flex-grow: 1;}#sk-container-id-1 div.sk-label:hover label.sk-toggleable__label {background-color: #d4ebff;}#sk-container-id-1 div.sk-serial::before {content: \"\";position: absolute;border-left: 1px solid gray;box-sizing: border-box;top: 0;bottom: 0;left: 50%;z-index: 0;}#sk-container-id-1 div.sk-serial {display: flex;flex-direction: column;align-items: center;background-color: white;padding-right: 0.2em;padding-left: 0.2em;position: relative;}#sk-container-id-1 div.sk-item {position: relative;z-index: 1;}#sk-container-id-1 div.sk-parallel {display: flex;align-items: stretch;justify-content: center;background-color: white;position: relative;}#sk-container-id-1 div.sk-item::before, #sk-container-id-1 div.sk-parallel-item::before {content: \"\";position: absolute;border-left: 1px solid gray;box-sizing: border-box;top: 0;bottom: 0;left: 50%;z-index: -1;}#sk-container-id-1 div.sk-parallel-item {display: flex;flex-direction: column;z-index: 1;position: relative;background-color: white;}#sk-container-id-1 div.sk-parallel-item:first-child::after {align-self: flex-end;width: 50%;}#sk-container-id-1 div.sk-parallel-item:last-child::after {align-self: flex-start;width: 50%;}#sk-container-id-1 div.sk-parallel-item:only-child::after {width: 0;}#sk-container-id-1 div.sk-dashed-wrapped {border: 1px dashed gray;margin: 0 0.4em 0.5em 0.4em;box-sizing: border-box;padding-bottom: 0.4em;background-color: white;}#sk-container-id-1 div.sk-label label {font-family: monospace;font-weight: bold;display: inline-block;line-height: 1.2em;}#sk-container-id-1 div.sk-label-container {text-align: center;}#sk-container-id-1 div.sk-container {/* jupyter's `normalize.less` sets `[hidden] { display: none; }` but bootstrap.min.css set `[hidden] { display: none !important; }` so we also need the `!important` here to be able to override the default hidden behavior on the sphinx rendered scikit-learn.org. See: https://github.com/scikit-learn/scikit-learn/issues/21755 */display: inline-block !important;position: relative;}#sk-container-id-1 div.sk-text-repr-fallback {display: none;}</style><div id=\"sk-container-id-1\" class=\"sk-top-container\"><div class=\"sk-text-repr-fallback\"><pre>Ridge(alpha=0.1)</pre><b>In a Jupyter environment, please rerun this cell to show the HTML representation or trust the notebook. <br />On GitHub, the HTML representation is unable to render, please try loading this page with nbviewer.org.</b></div><div class=\"sk-container\" hidden><div class=\"sk-item\"><div class=\"sk-estimator sk-toggleable\"><input class=\"sk-toggleable__control sk-hidden--visually\" id=\"sk-estimator-id-1\" type=\"checkbox\" checked><label for=\"sk-estimator-id-1\" class=\"sk-toggleable__label sk-toggleable__label-arrow\">Ridge</label><div class=\"sk-toggleable__content\"><pre>Ridge(alpha=0.1)</pre></div></div></div></div></div>"
            ]
          },
          "metadata": {},
          "execution_count": 21
        }
      ],
      "source": [
        "reg.fit(train[predictors], train[\"Share\"]) #fits model on predictor columns to predict share of mvp vote"
      ]
    },
    {
      "cell_type": "code",
      "execution_count": 22,
      "metadata": {
        "id": "tBGryW7v3QLC",
        "colab": {
          "base_uri": "https://localhost:8080/",
          "height": 336
        },
        "outputId": "34354059-308d-49ef-e8b4-1b2e98976526"
      },
      "outputs": [
        {
          "output_type": "error",
          "ename": "KeyError",
          "evalue": "ignored",
          "traceback": [
            "\u001b[0;31m---------------------------------------------------------------------------\u001b[0m",
            "\u001b[0;31mKeyError\u001b[0m                                  Traceback (most recent call last)",
            "\u001b[0;32m<ipython-input-22-bdd8ac570da0>\u001b[0m in \u001b[0;36m<cell line: 1>\u001b[0;34m()\u001b[0m\n\u001b[0;32m----> 1\u001b[0;31m \u001b[0mpredictions\u001b[0m \u001b[0;34m=\u001b[0m \u001b[0mreg\u001b[0m\u001b[0;34m.\u001b[0m\u001b[0mpredict\u001b[0m\u001b[0;34m(\u001b[0m\u001b[0mtest\u001b[0m\u001b[0;34m[\u001b[0m\u001b[0mpredictors\u001b[0m\u001b[0;34m]\u001b[0m\u001b[0;34m)\u001b[0m \u001b[0;31m#again same thing\u001b[0m\u001b[0;34m\u001b[0m\u001b[0;34m\u001b[0m\u001b[0m\n\u001b[0m",
            "\u001b[0;32m/usr/local/lib/python3.10/dist-packages/pandas/core/frame.py\u001b[0m in \u001b[0;36m__getitem__\u001b[0;34m(self, key)\u001b[0m\n\u001b[1;32m   3811\u001b[0m             \u001b[0;32mif\u001b[0m \u001b[0mis_iterator\u001b[0m\u001b[0;34m(\u001b[0m\u001b[0mkey\u001b[0m\u001b[0;34m)\u001b[0m\u001b[0;34m:\u001b[0m\u001b[0;34m\u001b[0m\u001b[0;34m\u001b[0m\u001b[0m\n\u001b[1;32m   3812\u001b[0m                 \u001b[0mkey\u001b[0m \u001b[0;34m=\u001b[0m \u001b[0mlist\u001b[0m\u001b[0;34m(\u001b[0m\u001b[0mkey\u001b[0m\u001b[0;34m)\u001b[0m\u001b[0;34m\u001b[0m\u001b[0;34m\u001b[0m\u001b[0m\n\u001b[0;32m-> 3813\u001b[0;31m             \u001b[0mindexer\u001b[0m \u001b[0;34m=\u001b[0m \u001b[0mself\u001b[0m\u001b[0;34m.\u001b[0m\u001b[0mcolumns\u001b[0m\u001b[0;34m.\u001b[0m\u001b[0m_get_indexer_strict\u001b[0m\u001b[0;34m(\u001b[0m\u001b[0mkey\u001b[0m\u001b[0;34m,\u001b[0m \u001b[0;34m\"columns\"\u001b[0m\u001b[0;34m)\u001b[0m\u001b[0;34m[\u001b[0m\u001b[0;36m1\u001b[0m\u001b[0;34m]\u001b[0m\u001b[0;34m\u001b[0m\u001b[0;34m\u001b[0m\u001b[0m\n\u001b[0m\u001b[1;32m   3814\u001b[0m \u001b[0;34m\u001b[0m\u001b[0m\n\u001b[1;32m   3815\u001b[0m         \u001b[0;31m# take() does not accept boolean indexers\u001b[0m\u001b[0;34m\u001b[0m\u001b[0;34m\u001b[0m\u001b[0m\n",
            "\u001b[0;32m/usr/local/lib/python3.10/dist-packages/pandas/core/indexes/base.py\u001b[0m in \u001b[0;36m_get_indexer_strict\u001b[0;34m(self, key, axis_name)\u001b[0m\n\u001b[1;32m   6068\u001b[0m             \u001b[0mkeyarr\u001b[0m\u001b[0;34m,\u001b[0m \u001b[0mindexer\u001b[0m\u001b[0;34m,\u001b[0m \u001b[0mnew_indexer\u001b[0m \u001b[0;34m=\u001b[0m \u001b[0mself\u001b[0m\u001b[0;34m.\u001b[0m\u001b[0m_reindex_non_unique\u001b[0m\u001b[0;34m(\u001b[0m\u001b[0mkeyarr\u001b[0m\u001b[0;34m)\u001b[0m\u001b[0;34m\u001b[0m\u001b[0;34m\u001b[0m\u001b[0m\n\u001b[1;32m   6069\u001b[0m \u001b[0;34m\u001b[0m\u001b[0m\n\u001b[0;32m-> 6070\u001b[0;31m         \u001b[0mself\u001b[0m\u001b[0;34m.\u001b[0m\u001b[0m_raise_if_missing\u001b[0m\u001b[0;34m(\u001b[0m\u001b[0mkeyarr\u001b[0m\u001b[0;34m,\u001b[0m \u001b[0mindexer\u001b[0m\u001b[0;34m,\u001b[0m \u001b[0maxis_name\u001b[0m\u001b[0;34m)\u001b[0m\u001b[0;34m\u001b[0m\u001b[0;34m\u001b[0m\u001b[0m\n\u001b[0m\u001b[1;32m   6071\u001b[0m \u001b[0;34m\u001b[0m\u001b[0m\n\u001b[1;32m   6072\u001b[0m         \u001b[0mkeyarr\u001b[0m \u001b[0;34m=\u001b[0m \u001b[0mself\u001b[0m\u001b[0;34m.\u001b[0m\u001b[0mtake\u001b[0m\u001b[0;34m(\u001b[0m\u001b[0mindexer\u001b[0m\u001b[0;34m)\u001b[0m\u001b[0;34m\u001b[0m\u001b[0;34m\u001b[0m\u001b[0m\n",
            "\u001b[0;32m/usr/local/lib/python3.10/dist-packages/pandas/core/indexes/base.py\u001b[0m in \u001b[0;36m_raise_if_missing\u001b[0;34m(self, key, indexer, axis_name)\u001b[0m\n\u001b[1;32m   6131\u001b[0m \u001b[0;34m\u001b[0m\u001b[0m\n\u001b[1;32m   6132\u001b[0m             \u001b[0mnot_found\u001b[0m \u001b[0;34m=\u001b[0m \u001b[0mlist\u001b[0m\u001b[0;34m(\u001b[0m\u001b[0mensure_index\u001b[0m\u001b[0;34m(\u001b[0m\u001b[0mkey\u001b[0m\u001b[0;34m)\u001b[0m\u001b[0;34m[\u001b[0m\u001b[0mmissing_mask\u001b[0m\u001b[0;34m.\u001b[0m\u001b[0mnonzero\u001b[0m\u001b[0;34m(\u001b[0m\u001b[0;34m)\u001b[0m\u001b[0;34m[\u001b[0m\u001b[0;36m0\u001b[0m\u001b[0;34m]\u001b[0m\u001b[0;34m]\u001b[0m\u001b[0;34m.\u001b[0m\u001b[0munique\u001b[0m\u001b[0;34m(\u001b[0m\u001b[0;34m)\u001b[0m\u001b[0;34m)\u001b[0m\u001b[0;34m\u001b[0m\u001b[0;34m\u001b[0m\u001b[0m\n\u001b[0;32m-> 6133\u001b[0;31m             \u001b[0;32mraise\u001b[0m \u001b[0mKeyError\u001b[0m\u001b[0;34m(\u001b[0m\u001b[0;34mf\"{not_found} not in index\"\u001b[0m\u001b[0;34m)\u001b[0m\u001b[0;34m\u001b[0m\u001b[0;34m\u001b[0m\u001b[0m\n\u001b[0m\u001b[1;32m   6134\u001b[0m \u001b[0;34m\u001b[0m\u001b[0m\n\u001b[1;32m   6135\u001b[0m     \u001b[0;34m@\u001b[0m\u001b[0moverload\u001b[0m\u001b[0;34m\u001b[0m\u001b[0;34m\u001b[0m\u001b[0m\n",
            "\u001b[0;31mKeyError\u001b[0m: \"['Age', 'G', 'GS', 'MP', 'FG', 'FGA', '3P', '3PA', '2P', '2PA', '2P%', 'eFG%', 'FT', 'FTA', 'FT%', 'ORB', 'DRB', 'TOV', 'PF', 'L', 'GB', 'PS/G', 'PA/G', 'SRS'] not in index\""
          ]
        }
      ],
      "source": [
        "predictions = reg.predict(test[predictors]) #again same thing"
      ]
    },
    {
      "cell_type": "code",
      "execution_count": null,
      "metadata": {
        "id": "_FzhCQzt306p"
      },
      "outputs": [],
      "source": [
        "predictions = pd.DataFrame(predictions, columns = [\"predictions\"], index = test.index)\n",
        "#coverts predictions from np array to pd dataframe"
      ]
    },
    {
      "cell_type": "code",
      "execution_count": null,
      "metadata": {
        "id": "qfi9mD57302P"
      },
      "outputs": [],
      "source": [
        "predictions"
      ]
    },
    {
      "cell_type": "markdown",
      "metadata": {
        "id": "7_YmJIkMmgFm"
      },
      "source": [
        "Now we will compare our actual values to our prediction to see how our model did!"
      ]
    },
    {
      "cell_type": "code",
      "execution_count": null,
      "metadata": {
        "id": "G6ZBX8rk30uq"
      },
      "outputs": [],
      "source": [
        "combination = pd.concat([test[[\"Player\", \"Share\"]], predictions], axis=1)\n",
        "#combine datafranes with concat method"
      ]
    },
    {
      "cell_type": "markdown",
      "metadata": {
        "id": "9YsShW-Dmsnr"
      },
      "source": [
        "So now what we did is that we addes this predictions colum as you see below."
      ]
    },
    {
      "cell_type": "code",
      "execution_count": null,
      "metadata": {
        "id": "a1ynuvsKqFBf"
      },
      "outputs": [],
      "source": [
        "combination.sort_values(\"Share\", ascending=False).head(20) #sorts by share"
      ]
    },
    {
      "cell_type": "code",
      "execution_count": null,
      "metadata": {
        "id": "qkM6wFkj30bL"
      },
      "outputs": [],
      "source": [
        "combination.sort_values(\"predictions\", ascending=False).head(20) #sorts by predictions"
      ]
    },
    {
      "cell_type": "code",
      "execution_count": null,
      "metadata": {
        "id": "2pztl0Oy4mri"
      },
      "outputs": [],
      "source": [
        "from sklearn.metrics import mean_squared_error #implementing error metric mse\n",
        "\n",
        "mean_squared_error(combination[\"Share\"], combination[\"predictions\"])"
      ]
    },
    {
      "cell_type": "markdown",
      "metadata": {
        "id": "3EdWh9p5qeuj"
      },
      "source": [
        "Mean Squared Error function takes the actual and precicted values and comes up with an error metric. Since the mean diference is so low, this is a good mse metric although a lot of the value are zero."
      ]
    },
    {
      "cell_type": "code",
      "execution_count": null,
      "metadata": {
        "id": "VvZH_rVP4m0H"
      },
      "outputs": [],
      "source": [
        "combination[\"Share\"].value_counts() #out of all the share values, most of them are 0 so our mse is not that acurate"
      ]
    },
    {
      "cell_type": "markdown",
      "metadata": {
        "id": "ie4Xnd7JrA54"
      },
      "source": [
        "Now let's get a new and more acurate error metric."
      ]
    },
    {
      "cell_type": "code",
      "execution_count": null,
      "metadata": {
        "id": "ZPx220mn4m3E"
      },
      "outputs": [],
      "source": [
        "#sorts on share of votes\n",
        "actual = combination.sort_values(\"Share\", ascending=False)\n",
        "predicted = combination.sort_values(\"predictions\", ascending=False)\n",
        "#make a rank colum that uses data to assign a rank from 1 to 5\n",
        "actual[\"Rank\"] = list(range(1,actual.shape[0]+1))\n",
        "predicted[\"Predicted_Rank\"] = list(range(1,predicted.shape[0]+1))"
      ]
    },
    {
      "cell_type": "code",
      "execution_count": null,
      "metadata": {
        "id": "jsMWRVxe4m69"
      },
      "outputs": [],
      "source": [
        "actual.merge(predicted, on=\"Player\").head(10)"
      ]
    },
    {
      "cell_type": "markdown",
      "metadata": {
        "id": "pFaus2V4rcAx"
      },
      "source": [
        "Now we can see some extra columns including the actual rank and predicted rank. It's somewhat acurate and there is a few outliers."
      ]
    },
    {
      "cell_type": "markdown",
      "metadata": {
        "id": "UM3A8FzysSUI"
      },
      "source": [
        "Now let's use the average precision error metric since it deals with ranking. So now what we're saying is did you have a person that is going to be in the top 5 in the actual top 5. If so, it gets a perfect score but if it didn't do this we will see how long it takes it to get to the correct value and score it based on that. For people like Chris Paul, we would be heavily penalized."
      ]
    },
    {
      "cell_type": "code",
      "execution_count": null,
      "metadata": {
        "id": "n1Dovm8h4m-I"
      },
      "outputs": [],
      "source": [
        "def find_ap(combination): #creates function find ap that takes in dataframe\n",
        "    #sorts dataframe by share and take the top 5 mvp winners\n",
        "    #then we will sort predictions\n",
        "    actual = combination.sort_values(\"Share\", ascending=False).head(5)\n",
        "    predicted = combination.sort_values(\"predictions\", ascending=False)\n",
        "    ps = []\n",
        "    found = 0  #how many of the top 5 mvp's we've found\n",
        "    seen = 1 #how many total people/records we have already seen\n",
        "    for index,row in predicted.iterrows(): #iterate through all rows in predicted\n",
        "        if row[\"Player\"] in actual[\"Player\"].values: #if player is in actual top 5\n",
        "            found += 1 #increments found\n",
        "            ps.append(found / seen) #give ourseleves credit\n",
        "        seen += 1 #increments seen\n",
        "\n",
        "    return sum(ps) / len(ps)"
      ]
    },
    {
      "cell_type": "code",
      "execution_count": null,
      "metadata": {
        "id": "lzicwUSd4nAV"
      },
      "outputs": [],
      "source": [
        "ap = find_ap(combination)"
      ]
    },
    {
      "cell_type": "code",
      "execution_count": null,
      "metadata": {
        "id": "coD_C82M4nCy"
      },
      "outputs": [],
      "source": [
        "ap #error metric for identifying MVP's - good error metric for top 5"
      ]
    },
    {
      "cell_type": "code",
      "execution_count": null,
      "metadata": {
        "id": "Gzdo1kN445eh"
      },
      "outputs": [],
      "source": [
        "years = list(range(1991,2022)) #predict for all years"
      ]
    },
    {
      "cell_type": "code",
      "execution_count": null,
      "metadata": {
        "id": "3hwTsn8345ln"
      },
      "outputs": [],
      "source": [
        "#implementing backtesting\n",
        "aps = []\n",
        "all_predictions = []\n",
        "for year in years[5:]: #start at 5th year\n",
        "    train = stats[stats[\"Year\"] < year] #less than year is train\n",
        "    test = stats[stats[\"Year\"] == year] #year is test\n",
        "    #goes year x is test and anything before that is train and then\n",
        "    #does the same thing after increasing x by 1 and so on\n",
        "    #makes error metric more robust\n",
        "    reg.fit(train[predictors],train[\"Share\"]) #train model\n",
        "    predictions = reg.predict(test[predictors]) #make predictions\n",
        "    predictions = pd.DataFrame(predictions, columns=[\"predictions\"], index=test.index)\n",
        "    #makes predictions into dataframe\n",
        "    combination = pd.concat([test[[\"Player\", \"Share\"]], predictions], axis=1)\n",
        "    #combines predictions with actual data\n",
        "    all_predictions.append(combination) #appends predictions\n",
        "    aps.append(find_ap(combination)) #appends the find average precision function\n",
        "    #at the end we will have all of our predictions in a dataframe and our mean_ap scores"
      ]
    },
    {
      "cell_type": "code",
      "execution_count": null,
      "metadata": {
        "id": "EEeKB7k745rf"
      },
      "outputs": [],
      "source": [
        "sum(aps) / len(aps) #mean_ap across all data not top couple"
      ]
    },
    {
      "cell_type": "code",
      "execution_count": null,
      "metadata": {
        "id": "rcMLapTo45x3"
      },
      "outputs": [],
      "source": [
        "def add_ranks(predictions): #Let's think about the ranks we predicted vs actual\n",
        "#helps us to learn how we can improve out model\n",
        "   #similar to before but sorting dataframe by acual share\n",
        "    predictions = predictions.sort_values(\"predictions\", ascending=False)\n",
        "    predictions[\"Predicted_Rank\"] = list(range(1,predictions.shape[0]+1))\n",
        "    predictions = predictions.sort_values(\"Share\", ascending=False)\n",
        "    predictions[\"Rank\"] = list(range(1,predictions.shape[0]+1))\n",
        "    predictions[\"Difference\"] = (predictions[\"Rank\"] - predictions[\"Predicted_Rank\"])\n",
        "    return predictions"
      ]
    },
    {
      "cell_type": "markdown",
      "metadata": {
        "id": "u0AtmXcNxxTo"
      },
      "source": [
        "We just found the difference between the actual and predicted rank which helps us see anything we can improve if we have a specific problem."
      ]
    },
    {
      "cell_type": "code",
      "execution_count": null,
      "metadata": {
        "id": "L-QXRfHx46FL"
      },
      "outputs": [],
      "source": [
        "add_ranks(all_predictions[25]) #predictions for 1997 season"
      ]
    },
    {
      "cell_type": "markdown",
      "metadata": {
        "id": "K0vJgqDWzJR3"
      },
      "source": [
        "So now at the top we can see the top five MVPs in 1977 and their difference from the predicted ranks and the actual ranks."
      ]
    },
    {
      "cell_type": "markdown",
      "metadata": {
        "id": "HitP4KOPypFr"
      },
      "source": [
        "Again, we are implementing a backtesting function to run it and get predictions whenever we want and to make our life a bit simpler and easier in the future."
      ]
    },
    {
      "cell_type": "code",
      "execution_count": null,
      "metadata": {
        "id": "rhOpMIRbmL1Z"
      },
      "outputs": [],
      "source": [
        "def backtest(stats, model, years, predictors):\n",
        "    aps = []\n",
        "    all_predictions = []\n",
        "    for year in years:\n",
        "        train = stats[stats[\"Year\"] < year]\n",
        "        test = stats[stats[\"Year\"] == year]\n",
        "        model.fit(train[predictors],train[\"Share\"])\n",
        "        predictions = model.predict(test[predictors])\n",
        "        predictions = pd.DataFrame(predictions, columns=[\"predictions\"], index=test.index)\n",
        "        combination = pd.concat([test[[\"Player\", \"Share\"]], predictions], axis=1)\n",
        "        combination = add_ranks(combination)\n",
        "        all_predictions.append(combination)\n",
        "        aps.append(find_ap(combination))\n",
        "    return sum(aps) / len(aps), aps, pd.concat(all_predictions)"
      ]
    },
    {
      "cell_type": "code",
      "execution_count": null,
      "metadata": {
        "id": "pbe6tm0q5Ihg"
      },
      "outputs": [],
      "source": [
        "mean_ap, aps, all_predictions = backtest(stats, reg, years[5:], predictors)\n",
        "#backtest regression model for all years from 1996 and on"
      ]
    },
    {
      "cell_type": "code",
      "execution_count": null,
      "metadata": {
        "id": "ok7A3rKt5Ins"
      },
      "outputs": [],
      "source": [
        "mean_ap\n",
        "#we got the same result as before except for the fact that it is much easier to use"
      ]
    },
    {
      "cell_type": "markdown",
      "metadata": {
        "id": "1CQhLhjEz2YT"
      },
      "source": [
        "Now we're going to look at diagnostics and the ten biggest differences."
      ]
    },
    {
      "cell_type": "code",
      "execution_count": null,
      "metadata": {
        "id": "qJyljrgS5IsC"
      },
      "outputs": [],
      "source": [
        "all_predictions[all_predictions[\"Rank\"] < 5].sort_values(\"Difference\").head(10)"
      ]
    },
    {
      "cell_type": "code",
      "execution_count": null,
      "metadata": {
        "id": "elzyrbel5Pra"
      },
      "outputs": [],
      "source": [
        "pd.concat([pd.Series(reg.coef_), pd.Series(predictors)], axis=1).sort_values(0, ascending=False)\n",
        "#now we're going to combine and concat two pandas series sorted to see the most important variable to the algorithm\n",
        "#basically which variables are important or not"
      ]
    },
    {
      "cell_type": "markdown",
      "metadata": {
        "id": "QoL4I8BY1pUJ"
      },
      "source": [
        "Adding more predictors to give the model more information."
      ]
    },
    {
      "cell_type": "code",
      "execution_count": null,
      "metadata": {
        "id": "P1PiG6Rx5PuY"
      },
      "outputs": [],
      "source": [
        "stat_ratios = stats[[\"PTS\", \"AST\", \"STL\", \"BLK\", \"3P\", \"Year\"]].groupby(\"Year\").apply(lambda x: x/x.mean())\n",
        "#make stats dataframes for each year where we apply a lambda function which is a function with just one line of code\n",
        "#in this case it is x divided my the mean\n",
        "stats[[\"PTS_R\", \"AST_R\", \"STL_R\", \"BLK_R\", \"3P_R\"]] = stat_ratios[[\"PTS\", \"AST\", \"STL\", \"BLK\", \"3P\"]]\n",
        "#adding it to out stats dataframe\n",
        "stats.head()"
      ]
    },
    {
      "cell_type": "markdown",
      "metadata": {
        "id": "h38D7puC2rZZ"
      },
      "source": [
        "So now in a category like PTS_T, we can see how people did against the mean. For example, people like James Worth scored a lot more points than the average since his number is about 2.4 which is well over 1. Now we will add these values to our predictors."
      ]
    },
    {
      "cell_type": "code",
      "execution_count": null,
      "metadata": {
        "id": "4JwmUIm_2jeQ"
      },
      "outputs": [],
      "source": [
        "predictors += [\"PTS_R\", \"AST_R\", \"STL_R\", \"BLK_R\", \"3P_R\"]\n",
        "mean_ap, aps, all_predictions = backtest(stats, reg, years[5:], predictors)\n",
        "mean_ap\n",
        "#we did improve a little bit on our error metric"
      ]
    },
    {
      "cell_type": "code",
      "execution_count": null,
      "metadata": {
        "id": "UxFk0N_J5PxY"
      },
      "outputs": [],
      "source": [
        "#now turning these colums into a category and getting the category codes\n",
        "stats[\"NPos\"] = stats[\"Pos\"].astype(\"category\").cat.codes\n",
        "stats[\"NTm\"] = stats[\"Tm\"].astype(\"category\").cat.codes\n",
        "#here we se if whatever team the person is on affects if they are the mvp or not\n",
        "stats[\"NTm\"].value_counts()"
      ]
    },
    {
      "cell_type": "code",
      "execution_count": null,
      "metadata": {
        "id": "3dFjIIBh5qku"
      },
      "outputs": [],
      "source": [
        "mean_ap"
      ]
    },
    {
      "cell_type": "code",
      "execution_count": null,
      "metadata": {
        "id": "uwiIgA7M5qne"
      },
      "outputs": [],
      "source": [
        "mean_ap, aps, all_predictions = backtest(stats, reg, years[28:], predictors)"
      ]
    },
    {
      "cell_type": "code",
      "execution_count": null,
      "metadata": {
        "id": "3DnKX62U5qqF"
      },
      "outputs": [],
      "source": [
        "mean_ap"
      ]
    },
    {
      "cell_type": "code",
      "execution_count": null,
      "metadata": {
        "id": "AP5Kx4Rn5qtD"
      },
      "outputs": [],
      "source": [
        "from sklearn.preprocessing import StandardScaler\n",
        "\n",
        "sc = StandardScaler()"
      ]
    },
    {
      "cell_type": "code",
      "execution_count": null,
      "metadata": {
        "id": "FKncEf9f50DO"
      },
      "outputs": [],
      "source": [
        "def backtest(stats, model, years, predictors):\n",
        "    aps = []\n",
        "    all_predictions = []\n",
        "    for year in years:\n",
        "        train = stats[stats[\"Year\"] < year].copy()\n",
        "        test = stats[stats[\"Year\"] == year].copy()\n",
        "        sc.fit(train[predictors])\n",
        "        train[predictors] = sc.transform(train[predictors])\n",
        "        test[predictors] = sc.transform(test[predictors])\n",
        "        model.fit(train[predictors],train[\"Share\"])\n",
        "        predictions = model.predict(test[predictors])\n",
        "        predictions = pd.DataFrame(predictions, columns=[\"predictions\"], index=test.index)\n",
        "        combination = pd.concat([test[[\"Player\", \"Share\"]], predictions], axis=1)\n",
        "        combination = add_ranks(combination)\n",
        "        all_predictions.append(combination)\n",
        "        aps.append(find_ap(combination))\n",
        "    return sum(aps) / len(aps), aps, pd.concat(all_predictions)"
      ]
    },
    {
      "cell_type": "code",
      "execution_count": null,
      "metadata": {
        "id": "zRYjMYpF50GV"
      },
      "outputs": [],
      "source": [
        "mean_ap, aps, all_predictions = backtest(stats, reg, years[28:], predictors)"
      ]
    },
    {
      "cell_type": "code",
      "execution_count": null,
      "metadata": {
        "id": "IFJVa1eT54Gm"
      },
      "outputs": [],
      "source": [
        "mean_ap"
      ]
    },
    {
      "cell_type": "code",
      "execution_count": null,
      "metadata": {
        "id": "b-j572N5qWQU"
      },
      "outputs": [],
      "source": [
        "#Diagnosing Model Performance"
      ]
    },
    {
      "cell_type": "code",
      "execution_count": null,
      "metadata": {
        "id": "gwofRlbA54Iz"
      },
      "outputs": [],
      "source": [
        "sc.transform(stats[predictors])"
      ]
    },
    {
      "cell_type": "markdown",
      "metadata": {
        "id": "RoXIkulRapLb"
      },
      "source": [
        "Having a higher or lower number here doesn't mean anything or tell the algorithm anything. In order for an algorithm to understand this we can't really use a linear regression algorithm so we'll use a Random Forest model."
      ]
    },
    {
      "cell_type": "code",
      "execution_count": null,
      "metadata": {
        "id": "bPaHTKFu54Nq"
      },
      "outputs": [],
      "source": [
        "#Random Forest creates a series of decision trees and averages the predictions from those trees\n",
        "from sklearn.ensemble import RandomForestRegressor\n",
        "\n",
        "#creates decision trees to be more acurate - takes a long time to run though\n",
        "rf = RandomForestRegressor(n_estimators = 50, random_state = 1, min_samples_split = 5)\n",
        "#random state at 1 makes it so that the values are the same every time we run it\n",
        "#min samples spit says dont make a new branch until there is 5 values ion each node\n",
        "\n",
        "mean_ap, aps, all_predictions = backtest(stats, rf, years[28: ], predictors)\n",
        "#we're also going to compare it to our regression model"
      ]
    },
    {
      "cell_type": "code",
      "execution_count": null,
      "metadata": {
        "id": "MtzeZXZ954Rx"
      },
      "outputs": [],
      "source": [
        "mean_ap"
      ]
    },
    {
      "cell_type": "code",
      "execution_count": null,
      "metadata": {
        "id": "rYzRMu2h54Tv"
      },
      "outputs": [],
      "source": [
        "mean_ap, aps, all_predictions = backtest(stats, reg, years[28: ], predictors)"
      ]
    },
    {
      "cell_type": "code",
      "execution_count": null,
      "metadata": {
        "id": "YoboORlLoc_w"
      },
      "outputs": [],
      "source": [
        "mean_ap"
      ]
    }
  ],
  "metadata": {
    "colab": {
      "provenance": []
    },
    "kernelspec": {
      "display_name": "Python 3",
      "name": "python3"
    },
    "language_info": {
      "name": "python"
    }
  },
  "nbformat": 4,
  "nbformat_minor": 0
}